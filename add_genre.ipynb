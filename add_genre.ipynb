{
 "cells": [
  {
   "cell_type": "code",
   "execution_count": 10,
   "metadata": {},
   "outputs": [],
   "source": [
    "import pandas as pd\n",
    "from spotify import get_tracks, get_artists\n",
    "top200 = pd.read_csv('top200.csv')"
   ]
  },
  {
   "cell_type": "code",
   "execution_count": 12,
   "metadata": {},
   "outputs": [],
   "source": [
    "track_info = []\n",
    "for i in range(0, len(top200), 50):\n",
    "  start = i\n",
    "  end = i + 50 if i + 50 < len(top200) else len(top200)\n",
    "  tracks = get_tracks(','.join(top200['id'][start:end]))['tracks']\n",
    "  k = 0\n",
    "  for j in range(start, end):\n",
    "    track_info.append(tracks[k])\n",
    "    k += 1"
   ]
  },
  {
   "cell_type": "code",
   "execution_count": 34,
   "metadata": {},
   "outputs": [
    {
     "data": {
      "text/plain": [
       "['drill francais, rap francais',\n",
       " 'francoton, french hip hop, pop urbaine, rap algerien, rap tunisien',\n",
       " '',\n",
       " 'big room, dance pop, edm, pop, pop dance',\n",
       " 'french hip hop, pop urbaine',\n",
       " 'francoton, french hip hop, pop urbaine, rap francais, rap marseille',\n",
       " 'french hip hop, pop urbaine, rap francais',\n",
       " 'piano rock, pop, pop rock',\n",
       " 'dance pop, pop, uk pop',\n",
       " 'r&b en espanol']"
      ]
     },
     "execution_count": 34,
     "metadata": {},
     "output_type": "execute_result"
    }
   ],
   "source": [
    "artist_ids = [track['artists'][0]['id'] for track in track_info]\n",
    "artist_genre = []\n",
    "for i in range(0, len(artist_ids), 50):\n",
    "  start = i\n",
    "  end = i + 50 if i + 50 < len(artist_ids) else len(artist_ids)\n",
    "  artists = get_artists(','.join(artist_ids[start:end]))\n",
    "  k = 0\n",
    "  for j in range(start, end):\n",
    "    artist_genre.append(', '.join(artists[k]['genres']))\n",
    "    k += 1\n",
    "artist_genre[:10]"
   ]
  }
 ],
 "metadata": {
  "kernelspec": {
   "display_name": "Python 3.10.5 64-bit",
   "language": "python",
   "name": "python3"
  },
  "language_info": {
   "codemirror_mode": {
    "name": "ipython",
    "version": 3
   },
   "file_extension": ".py",
   "mimetype": "text/x-python",
   "name": "python",
   "nbconvert_exporter": "python",
   "pygments_lexer": "ipython3",
   "version": "3.10.5"
  },
  "orig_nbformat": 4,
  "vscode": {
   "interpreter": {
    "hash": "b9d3afb3205ed3a5dcda4b5da3d178cff17aece66e80fca6d05330ad459cba38"
   }
  }
 },
 "nbformat": 4,
 "nbformat_minor": 2
}

{
 "cells": [
  {
   "cell_type": "code",
   "execution_count": 236,
   "metadata": {},
   "outputs": [],
   "source": [
    "import pandas as pd\n",
    "import numpy as np\n",
    "import re\n",
    "from nltk.corpus import stopwords\n",
    "import unidecode\n",
    "import spacy"
   ]
  },
  {
   "cell_type": "code",
   "execution_count": 244,
   "metadata": {},
   "outputs": [],
   "source": [
    "data = pd.read_csv('top200-fr.csv')\n",
    "lyrics = data['lyrics']"
   ]
  },
  {
   "cell_type": "code",
   "execution_count": 245,
   "metadata": {},
   "outputs": [
    {
     "data": {
      "text/plain": [
       "0      [Paroles de \"DIE\"] [Intro] La mala est gangx E...\n",
       "1      [Paroles de \"Balader\" ft. Niska] [Intro :  Soo...\n",
       "2      [Paroles de \"FADE UP\" ft. Hamza & SCH] [Intro ...\n",
       "3      [Chorus] I'm good yeah I'm feelin' alright Bab...\n",
       "4      [Paroles de \"Carolina\" ft. Ninho] [Refrain] Ca...\n",
       "                             ...                        \n",
       "263    [Verse 1] And all I am is a man I want the wor...\n",
       "264    [Paroles de \"Dis-moi que tu m'aimes\"] [Intro :...\n",
       "265    [Paroles de \"Dernier Etage\" ft. Ninho] [Intro ...\n",
       "266    [Paroles de \"Mentalité\"] [Intro] Yah [Couplet ...\n",
       "267    [Paroles de \"Flash\"] [Couplet 1] J'me souviens...\n",
       "Name: lyrics, Length: 268, dtype: object"
      ]
     },
     "execution_count": 245,
     "metadata": {},
     "output_type": "execute_result"
    }
   ],
   "source": [
    "lyrics"
   ]
  },
  {
   "cell_type": "code",
   "execution_count": 238,
   "metadata": {},
   "outputs": [],
   "source": [
    "def stop_words_french(text):\n",
    "    stop_words = stopwords.words('french')\n",
    "    text = [word for word in text if word not in stopwords.words('french') and len(word)>1]\n",
    "    return text\n",
    "\n",
    "def stop_words_english(text):\n",
    "    stop_words = stopwords.words('english')\n",
    "    text = [word for word in text if word not in stopwords.words('english') and len(word)>1]\n",
    "    return text"
   ]
  },
  {
   "cell_type": "code",
   "execution_count": 239,
   "metadata": {},
   "outputs": [],
   "source": [
    "def lemmatization(nlp, texte):\n",
    "    i = 0\n",
    "    for mot in texte:\n",
    "        doc = nlp(mot)\n",
    "        for token in doc:\n",
    "            texte[i] = token.lemma_.lower()\n",
    "            \n",
    "        i += 1\n",
    "            \n",
    "    return texte"
   ]
  },
  {
   "cell_type": "code",
   "execution_count": 240,
   "metadata": {},
   "outputs": [],
   "source": [
    "nlp_fr = spacy.load('fr_core_news_md')\n",
    "nlp_en = spacy.load('en_core_web_md')"
   ]
  },
  {
   "cell_type": "code",
   "execution_count": 241,
   "metadata": {},
   "outputs": [
    {
     "name": "stderr",
     "output_type": "stream",
     "text": [
      "C:\\Users\\bapti\\AppData\\Local\\Temp\\ipykernel_2012\\1355021314.py:3: SettingWithCopyWarning: \n",
      "A value is trying to be set on a copy of a slice from a DataFrame\n",
      "\n",
      "See the caveats in the documentation: https://pandas.pydata.org/pandas-docs/stable/user_guide/indexing.html#returning-a-view-versus-a-copy\n",
      "  lyrics[i] = str(lyrics[i])\n",
      "C:\\Users\\bapti\\AppData\\Local\\Temp\\ipykernel_2012\\1355021314.py:5: SettingWithCopyWarning: \n",
      "A value is trying to be set on a copy of a slice from a DataFrame\n",
      "\n",
      "See the caveats in the documentation: https://pandas.pydata.org/pandas-docs/stable/user_guide/indexing.html#returning-a-view-versus-a-copy\n",
      "  lyrics[i] = unidecode.unidecode(lyrics[i])\n",
      "C:\\Users\\bapti\\AppData\\Local\\Temp\\ipykernel_2012\\1355021314.py:6: SettingWithCopyWarning: \n",
      "A value is trying to be set on a copy of a slice from a DataFrame\n",
      "\n",
      "See the caveats in the documentation: https://pandas.pydata.org/pandas-docs/stable/user_guide/indexing.html#returning-a-view-versus-a-copy\n",
      "  lyrics[i] = re.sub(r'\\[.*?\\]', '', lyrics[i])\n",
      "C:\\Users\\bapti\\AppData\\Local\\Temp\\ipykernel_2012\\1355021314.py:7: SettingWithCopyWarning: \n",
      "A value is trying to be set on a copy of a slice from a DataFrame\n",
      "\n",
      "See the caveats in the documentation: https://pandas.pydata.org/pandas-docs/stable/user_guide/indexing.html#returning-a-view-versus-a-copy\n",
      "  lyrics[i] = re.sub(r'\\(.*?\\)', '', lyrics[i])\n",
      "C:\\Users\\bapti\\AppData\\Local\\Temp\\ipykernel_2012\\1355021314.py:8: SettingWithCopyWarning: \n",
      "A value is trying to be set on a copy of a slice from a DataFrame\n",
      "\n",
      "See the caveats in the documentation: https://pandas.pydata.org/pandas-docs/stable/user_guide/indexing.html#returning-a-view-versus-a-copy\n",
      "  lyrics[i] = lyrics[i].replace(\"'\", ' ')\n",
      "C:\\Users\\bapti\\AppData\\Local\\Temp\\ipykernel_2012\\1355021314.py:9: SettingWithCopyWarning: \n",
      "A value is trying to be set on a copy of a slice from a DataFrame\n",
      "\n",
      "See the caveats in the documentation: https://pandas.pydata.org/pandas-docs/stable/user_guide/indexing.html#returning-a-view-versus-a-copy\n",
      "  lyrics[i] = lyrics[i].replace(\"-\", ' ')\n",
      "C:\\Users\\bapti\\AppData\\Local\\Temp\\ipykernel_2012\\1355021314.py:10: SettingWithCopyWarning: \n",
      "A value is trying to be set on a copy of a slice from a DataFrame\n",
      "\n",
      "See the caveats in the documentation: https://pandas.pydata.org/pandas-docs/stable/user_guide/indexing.html#returning-a-view-versus-a-copy\n",
      "  lyrics[i] = lyrics[i].replace(\"!\", ' ')\n",
      "C:\\Users\\bapti\\AppData\\Local\\Temp\\ipykernel_2012\\1355021314.py:11: SettingWithCopyWarning: \n",
      "A value is trying to be set on a copy of a slice from a DataFrame\n",
      "\n",
      "See the caveats in the documentation: https://pandas.pydata.org/pandas-docs/stable/user_guide/indexing.html#returning-a-view-versus-a-copy\n",
      "  lyrics[i] = lyrics[i].replace(\".\", ' ')\n",
      "C:\\Users\\bapti\\AppData\\Local\\Temp\\ipykernel_2012\\1355021314.py:12: SettingWithCopyWarning: \n",
      "A value is trying to be set on a copy of a slice from a DataFrame\n",
      "\n",
      "See the caveats in the documentation: https://pandas.pydata.org/pandas-docs/stable/user_guide/indexing.html#returning-a-view-versus-a-copy\n",
      "  lyrics[i] = lyrics[i].replace(\"?\", ' ')\n",
      "C:\\Users\\bapti\\AppData\\Local\\Temp\\ipykernel_2012\\1355021314.py:13: SettingWithCopyWarning: \n",
      "A value is trying to be set on a copy of a slice from a DataFrame\n",
      "\n",
      "See the caveats in the documentation: https://pandas.pydata.org/pandas-docs/stable/user_guide/indexing.html#returning-a-view-versus-a-copy\n",
      "  lyrics[i] = lyrics[i].split(' ')\n",
      "C:\\Users\\bapti\\AppData\\Local\\Temp\\ipykernel_2012\\1355021314.py:14: SettingWithCopyWarning: \n",
      "A value is trying to be set on a copy of a slice from a DataFrame\n",
      "\n",
      "See the caveats in the documentation: https://pandas.pydata.org/pandas-docs/stable/user_guide/indexing.html#returning-a-view-versus-a-copy\n",
      "  lyrics[i] = lemmatization(nlp_fr, lyrics[i])\n",
      "C:\\Users\\bapti\\AppData\\Local\\Temp\\ipykernel_2012\\1355021314.py:15: SettingWithCopyWarning: \n",
      "A value is trying to be set on a copy of a slice from a DataFrame\n",
      "\n",
      "See the caveats in the documentation: https://pandas.pydata.org/pandas-docs/stable/user_guide/indexing.html#returning-a-view-versus-a-copy\n",
      "  lyrics[i] = lemmatization(nlp_en, lyrics[i])\n",
      "C:\\Users\\bapti\\AppData\\Local\\Temp\\ipykernel_2012\\1355021314.py:16: SettingWithCopyWarning: \n",
      "A value is trying to be set on a copy of a slice from a DataFrame\n",
      "\n",
      "See the caveats in the documentation: https://pandas.pydata.org/pandas-docs/stable/user_guide/indexing.html#returning-a-view-versus-a-copy\n",
      "  lyrics[i] = stop_words_english(lyrics[i])\n",
      "C:\\Users\\bapti\\AppData\\Local\\Temp\\ipykernel_2012\\1355021314.py:17: SettingWithCopyWarning: \n",
      "A value is trying to be set on a copy of a slice from a DataFrame\n",
      "\n",
      "See the caveats in the documentation: https://pandas.pydata.org/pandas-docs/stable/user_guide/indexing.html#returning-a-view-versus-a-copy\n",
      "  lyrics[i] = stop_words_french(lyrics[i])\n"
     ]
    }
   ],
   "source": [
    "i = 0\n",
    "while i < len(lyrics):\n",
    "    lyrics[i] = str(lyrics[i])\n",
    "    if len(lyrics[i]) > 0:\n",
    "        lyrics[i] = unidecode.unidecode(lyrics[i])\n",
    "        lyrics[i] = re.sub(r'\\[.*?\\]', '', lyrics[i])\n",
    "        lyrics[i] = re.sub(r'\\(.*?\\)', '', lyrics[i])\n",
    "        lyrics[i] = lyrics[i].replace(\"'\", ' ')\n",
    "        lyrics[i] = lyrics[i].replace(\"-\", ' ')\n",
    "        lyrics[i] = lyrics[i].replace(\"!\", ' ')\n",
    "        lyrics[i] = lyrics[i].replace(\".\", ' ')\n",
    "        lyrics[i] = lyrics[i].replace(\"?\", ' ')\n",
    "        lyrics[i] = lyrics[i].split(' ')\n",
    "        lyrics[i] = lemmatization(nlp_fr, lyrics[i])\n",
    "        lyrics[i] = lemmatization(nlp_en, lyrics[i])\n",
    "        lyrics[i] = stop_words_english(lyrics[i])\n",
    "        lyrics[i] = stop_words_french(lyrics[i])\n",
    "    i +=1"
   ]
  },
  {
   "cell_type": "code",
   "execution_count": 242,
   "metadata": {},
   "outputs": [
    {
     "data": {
      "text/plain": [
       "0      [mala, être, gangx, eh, bang, bang, eh, grr, g...\n",
       "1      [ah, tou, tou, tou, touh, bebe, faire, sous, r...\n",
       "2      [zeg, track, bitch, avoir, passer, tout, night...\n",
       "3      [good, yeah, feelin, alright, baby, haver, goo...\n",
       "4      [carolina, être, pete, saoul, dehor, être, dro...\n",
       "                             ...                        \n",
       "263    [avoir, man, want, world, hand, hate, beach, s...\n",
       "264    [tonii, beat, avoue, avoir, faire, con, enferm...\n",
       "265    [dis, comment, proceder, voir, mieux, luna, ma...\n",
       "266    [yah, achete, tout, pler, sen, mieux, tout, se...\n",
       "267    [souvenir, chaque, jour, vie, souvenir, si, bi...\n",
       "Name: lyrics, Length: 268, dtype: object"
      ]
     },
     "execution_count": 242,
     "metadata": {},
     "output_type": "execute_result"
    }
   ],
   "source": [
    "lyrics"
   ]
  },
  {
   "cell_type": "code",
   "execution_count": 243,
   "metadata": {},
   "outputs": [
    {
     "data": {
      "text/plain": [
       "['mala',\n",
       " 'être',\n",
       " 'gangx',\n",
       " 'eh',\n",
       " 'bang',\n",
       " 'bang',\n",
       " 'eh',\n",
       " 'grr',\n",
       " 'grr',\n",
       " 'bang',\n",
       " 'bang',\n",
       " 'gar',\n",
       " 'sherko',\n",
       " 'être',\n",
       " 'inge',\n",
       " 'eh',\n",
       " 'eh',\n",
       " 'toujours',\n",
       " 'bsb',\n",
       " 'hey',\n",
       " 'crois',\n",
       " 'evite',\n",
       " 'alors',\n",
       " 'maill',\n",
       " 'vouloir',\n",
       " 'savoir',\n",
       " 'être',\n",
       " 'quel',\n",
       " 'bail',\n",
       " 'dis',\n",
       " 'vouloir',\n",
       " 'voir',\n",
       " 'donner',\n",
       " 'vouloir',\n",
       " 'jusqu',\n",
       " 'avoir',\n",
       " 'die',\n",
       " 'mission',\n",
       " 'aller',\n",
       " 'falloir',\n",
       " 'aller',\n",
       " 'jusqu',\n",
       " 'avoir',\n",
       " 'die',\n",
       " 'vouloir',\n",
       " 'savoir',\n",
       " 'comment',\n",
       " 'maill',\n",
       " 'nouvelle',\n",
       " 'cargaison',\n",
       " 'donc',\n",
       " 'partout',\n",
       " 'repand',\n",
       " 'achete',\n",
       " 'revendre',\n",
       " 'arrete',\n",
       " 'reprendre',\n",
       " 'nou',\n",
       " 'nouveau',\n",
       " 'cargaison',\n",
       " 'donc',\n",
       " 'partout',\n",
       " 'repand',\n",
       " 'achete',\n",
       " 'revendre',\n",
       " 'arrete',\n",
       " 'reprendre']"
      ]
     },
     "execution_count": 243,
     "metadata": {},
     "output_type": "execute_result"
    }
   ],
   "source": [
    "lyrics[0]"
   ]
  },
  {
   "cell_type": "code",
   "execution_count": null,
   "metadata": {},
   "outputs": [],
   "source": []
  }
 ],
 "metadata": {
  "kernelspec": {
   "display_name": "Python 3.10.8 64-bit",
   "language": "python",
   "name": "python3"
  },
  "language_info": {
   "codemirror_mode": {
    "name": "ipython",
    "version": 3
   },
   "file_extension": ".py",
   "mimetype": "text/x-python",
   "name": "python",
   "nbconvert_exporter": "python",
   "pygments_lexer": "ipython3",
   "version": "3.10.8"
  },
  "orig_nbformat": 4,
  "vscode": {
   "interpreter": {
    "hash": "27fd6a064d6c7c8082aaa95ab329c8297122ddbb839f6b085e9f9d2309e1bfb3"
   }
  }
 },
 "nbformat": 4,
 "nbformat_minor": 2
}

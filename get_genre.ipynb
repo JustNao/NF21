{
 "cells": [
  {
   "cell_type": "markdown",
   "metadata": {},
   "source": [
    "# Traitement de la récupération du genre"
   ]
  },
  {
   "cell_type": "code",
   "execution_count": 13,
   "metadata": {},
   "outputs": [],
   "source": [
    "import pandas as pd \n",
    "import numpy as np"
   ]
  },
  {
   "cell_type": "code",
   "execution_count": 14,
   "metadata": {},
   "outputs": [
    {
     "name": "stdout",
     "output_type": "stream",
     "text": [
      "(1320, 23)\n"
     ]
    }
   ],
   "source": [
    "df = pd.read_csv('top200.csv', encoding='utf-8')\n",
    "df['genre'] = df['genre'].replace({'francoton':'', 'drill':'rap'})\n",
    "df['genre'] = df['genre'].replace(np.nan, 'autre')\n",
    "print(df.shape)\n",
    "\n",
    "liste_genres = ['rap', 'r&b', 'rock', 'pop', 'hip hop', 'variete', 'autre']"
   ]
  },
  {
   "cell_type": "code",
   "execution_count": 15,
   "metadata": {},
   "outputs": [
    {
     "name": "stderr",
     "output_type": "stream",
     "text": [
      "C:\\Users\\nao3n\\AppData\\Local\\Temp\\ipykernel_14760\\2990559140.py:9: SettingWithCopyWarning: \n",
      "A value is trying to be set on a copy of a slice from a DataFrame\n",
      "\n",
      "See the caveats in the documentation: https://pandas.pydata.org/pandas-docs/stable/user_guide/indexing.html#returning-a-view-versus-a-copy\n",
      "  df['genre'][ind] = liste_genres[maximum[0]]\n"
     ]
    }
   ],
   "source": [
    "ind = 0\n",
    "for genres in df['genre']:\n",
    "    count_liste_genre = np.array([])\n",
    "    for genre in liste_genres:\n",
    "        count_liste_genre = np.append(count_liste_genre, genres.count(genre))\n",
    "    m = np.amax(count_liste_genre)\n",
    "    maximum = [i for i, j in enumerate(count_liste_genre) if j == m]\n",
    "    \n",
    "    df['genre'][ind] = liste_genres[maximum[0]]\n",
    "    ind = ind+1"
   ]
  },
  {
   "cell_type": "code",
   "execution_count": 16,
   "metadata": {},
   "outputs": [
    {
     "data": {
      "text/html": [
       "<div>\n",
       "<style scoped>\n",
       "    .dataframe tbody tr th:only-of-type {\n",
       "        vertical-align: middle;\n",
       "    }\n",
       "\n",
       "    .dataframe tbody tr th {\n",
       "        vertical-align: top;\n",
       "    }\n",
       "\n",
       "    .dataframe thead th {\n",
       "        text-align: right;\n",
       "    }\n",
       "</style>\n",
       "<table border=\"1\" class=\"dataframe\">\n",
       "  <thead>\n",
       "    <tr style=\"text-align: right;\">\n",
       "      <th></th>\n",
       "      <th>title</th>\n",
       "      <th>artist</th>\n",
       "      <th>genre</th>\n",
       "      <th>rank</th>\n",
       "      <th>danceability</th>\n",
       "      <th>energy</th>\n",
       "      <th>key</th>\n",
       "      <th>loudness</th>\n",
       "      <th>mode</th>\n",
       "      <th>speechiness</th>\n",
       "      <th>...</th>\n",
       "      <th>valence</th>\n",
       "      <th>tempo</th>\n",
       "      <th>duration_ms</th>\n",
       "      <th>time_signature</th>\n",
       "      <th>lyrics</th>\n",
       "      <th>winter</th>\n",
       "      <th>spring</th>\n",
       "      <th>summer</th>\n",
       "      <th>autumn</th>\n",
       "      <th>id</th>\n",
       "    </tr>\n",
       "  </thead>\n",
       "  <tbody>\n",
       "    <tr>\n",
       "      <th>0</th>\n",
       "      <td>TOUT VA BIEN (feat. Ninho &amp; Naps)</td>\n",
       "      <td>Alonzo</td>\n",
       "      <td>rap</td>\n",
       "      <td>1</td>\n",
       "      <td>0.660</td>\n",
       "      <td>0.720</td>\n",
       "      <td>3.0</td>\n",
       "      <td>-5.874</td>\n",
       "      <td>0.0</td>\n",
       "      <td>0.0753</td>\n",
       "      <td>...</td>\n",
       "      <td>0.628</td>\n",
       "      <td>99.937</td>\n",
       "      <td>192960.0</td>\n",
       "      <td>4.0</td>\n",
       "      <td>[Paroles de \"TOUT VA BIEN\" ft. Naps &amp; Ninho] [...</td>\n",
       "      <td>0</td>\n",
       "      <td>1</td>\n",
       "      <td>1</td>\n",
       "      <td>1</td>\n",
       "      <td>6OZwia8loN0aPS0vTvsBjR</td>\n",
       "    </tr>\n",
       "    <tr>\n",
       "      <th>1</th>\n",
       "      <td>FADE UP</td>\n",
       "      <td>ZEG P</td>\n",
       "      <td>autre</td>\n",
       "      <td>2</td>\n",
       "      <td>0.758</td>\n",
       "      <td>0.599</td>\n",
       "      <td>4.0</td>\n",
       "      <td>-5.990</td>\n",
       "      <td>0.0</td>\n",
       "      <td>0.0877</td>\n",
       "      <td>...</td>\n",
       "      <td>0.557</td>\n",
       "      <td>129.960</td>\n",
       "      <td>219188.0</td>\n",
       "      <td>4.0</td>\n",
       "      <td>[Paroles de \"FADE UP\" ft. Hamza &amp; SCH] [Intro ...</td>\n",
       "      <td>0</td>\n",
       "      <td>0</td>\n",
       "      <td>1</td>\n",
       "      <td>1</td>\n",
       "      <td>4ZpIuzx91EAPK3VimONbfB</td>\n",
       "    </tr>\n",
       "    <tr>\n",
       "      <th>2</th>\n",
       "      <td>DIE</td>\n",
       "      <td>Gazo</td>\n",
       "      <td>rap</td>\n",
       "      <td>3</td>\n",
       "      <td>0.695</td>\n",
       "      <td>0.630</td>\n",
       "      <td>8.0</td>\n",
       "      <td>-7.160</td>\n",
       "      <td>0.0</td>\n",
       "      <td>0.0350</td>\n",
       "      <td>...</td>\n",
       "      <td>0.550</td>\n",
       "      <td>130.968</td>\n",
       "      <td>240413.0</td>\n",
       "      <td>4.0</td>\n",
       "      <td>[Paroles de \"DIE\"] [Intro] La mala est gangx E...</td>\n",
       "      <td>0</td>\n",
       "      <td>0</td>\n",
       "      <td>1</td>\n",
       "      <td>1</td>\n",
       "      <td>3D29kjUyWxsT3jUUTtARVQ</td>\n",
       "    </tr>\n",
       "    <tr>\n",
       "      <th>3</th>\n",
       "      <td>PETETE</td>\n",
       "      <td>Gambi</td>\n",
       "      <td>rap</td>\n",
       "      <td>4</td>\n",
       "      <td>0.752</td>\n",
       "      <td>0.669</td>\n",
       "      <td>10.0</td>\n",
       "      <td>-9.817</td>\n",
       "      <td>0.0</td>\n",
       "      <td>0.2510</td>\n",
       "      <td>...</td>\n",
       "      <td>0.627</td>\n",
       "      <td>155.997</td>\n",
       "      <td>123846.0</td>\n",
       "      <td>4.0</td>\n",
       "      <td>[Paroles de \"PETETE\"] [Intro] Pew Grr Pew pew ...</td>\n",
       "      <td>0</td>\n",
       "      <td>0</td>\n",
       "      <td>1</td>\n",
       "      <td>1</td>\n",
       "      <td>0z3bi63SNZ5ylyHOzb81Uq</td>\n",
       "    </tr>\n",
       "    <tr>\n",
       "      <th>4</th>\n",
       "      <td>Time Time</td>\n",
       "      <td>Trei Degete</td>\n",
       "      <td>autre</td>\n",
       "      <td>5</td>\n",
       "      <td>0.715</td>\n",
       "      <td>0.799</td>\n",
       "      <td>0.0</td>\n",
       "      <td>-6.447</td>\n",
       "      <td>0.0</td>\n",
       "      <td>0.0433</td>\n",
       "      <td>...</td>\n",
       "      <td>0.916</td>\n",
       "      <td>128.925</td>\n",
       "      <td>156373.0</td>\n",
       "      <td>4.0</td>\n",
       "      <td>[Paroles de \"Time Time\"] [Couplet 1 : Squeezie...</td>\n",
       "      <td>1</td>\n",
       "      <td>0</td>\n",
       "      <td>0</td>\n",
       "      <td>1</td>\n",
       "      <td>5wKDPtbdggE1roeVp3UdXX</td>\n",
       "    </tr>\n",
       "  </tbody>\n",
       "</table>\n",
       "<p>5 rows × 23 columns</p>\n",
       "</div>"
      ],
      "text/plain": [
       "                               title       artist  genre  rank  danceability  \\\n",
       "0  TOUT VA BIEN (feat. Ninho & Naps)       Alonzo    rap     1         0.660   \n",
       "1                            FADE UP        ZEG P  autre     2         0.758   \n",
       "2                                DIE         Gazo    rap     3         0.695   \n",
       "3                             PETETE        Gambi    rap     4         0.752   \n",
       "4                          Time Time  Trei Degete  autre     5         0.715   \n",
       "\n",
       "   energy   key  loudness  mode  speechiness  ...  valence    tempo  \\\n",
       "0   0.720   3.0    -5.874   0.0       0.0753  ...    0.628   99.937   \n",
       "1   0.599   4.0    -5.990   0.0       0.0877  ...    0.557  129.960   \n",
       "2   0.630   8.0    -7.160   0.0       0.0350  ...    0.550  130.968   \n",
       "3   0.669  10.0    -9.817   0.0       0.2510  ...    0.627  155.997   \n",
       "4   0.799   0.0    -6.447   0.0       0.0433  ...    0.916  128.925   \n",
       "\n",
       "   duration_ms  time_signature  \\\n",
       "0     192960.0             4.0   \n",
       "1     219188.0             4.0   \n",
       "2     240413.0             4.0   \n",
       "3     123846.0             4.0   \n",
       "4     156373.0             4.0   \n",
       "\n",
       "                                              lyrics  winter  spring summer  \\\n",
       "0  [Paroles de \"TOUT VA BIEN\" ft. Naps & Ninho] [...       0       1      1   \n",
       "1  [Paroles de \"FADE UP\" ft. Hamza & SCH] [Intro ...       0       0      1   \n",
       "2  [Paroles de \"DIE\"] [Intro] La mala est gangx E...       0       0      1   \n",
       "3  [Paroles de \"PETETE\"] [Intro] Pew Grr Pew pew ...       0       0      1   \n",
       "4  [Paroles de \"Time Time\"] [Couplet 1 : Squeezie...       1       0      0   \n",
       "\n",
       "   autumn                      id  \n",
       "0       1  6OZwia8loN0aPS0vTvsBjR  \n",
       "1       1  4ZpIuzx91EAPK3VimONbfB  \n",
       "2       1  3D29kjUyWxsT3jUUTtARVQ  \n",
       "3       1  0z3bi63SNZ5ylyHOzb81Uq  \n",
       "4       1  5wKDPtbdggE1roeVp3UdXX  \n",
       "\n",
       "[5 rows x 23 columns]"
      ]
     },
     "execution_count": 16,
     "metadata": {},
     "output_type": "execute_result"
    }
   ],
   "source": [
    "df.head()"
   ]
  },
  {
   "cell_type": "code",
   "execution_count": 17,
   "metadata": {},
   "outputs": [],
   "source": [
    "df.to_csv('top200.csv', index=False, encoding='utf-8')"
   ]
  },
  {
   "cell_type": "code",
   "execution_count": 18,
   "metadata": {},
   "outputs": [
    {
     "name": "stdout",
     "output_type": "stream",
     "text": [
      "(1053, 23)\n"
     ]
    },
    {
     "name": "stderr",
     "output_type": "stream",
     "text": [
      "C:\\Users\\nao3n\\AppData\\Local\\Temp\\ipykernel_14760\\2602475525.py:17: SettingWithCopyWarning: \n",
      "A value is trying to be set on a copy of a slice from a DataFrame\n",
      "\n",
      "See the caveats in the documentation: https://pandas.pydata.org/pandas-docs/stable/user_guide/indexing.html#returning-a-view-versus-a-copy\n",
      "  df['genre'][ind] = liste_genres[maximum[0]]\n"
     ]
    }
   ],
   "source": [
    "# Bottom\n",
    "df = pd.read_csv('bottom200.csv', encoding='utf-8')\n",
    "df['genre'] = df['genre'].replace({'francoton':'', 'drill':'rap'})\n",
    "df['genre'] = df['genre'].replace(np.nan, 'autre')\n",
    "print(df.shape)\n",
    "\n",
    "liste_genres = ['rap', 'r&b', 'rock', 'pop', 'hip hop', 'variete', 'autre']\n",
    "\n",
    "ind = 0\n",
    "for genres in df['genre']:\n",
    "    count_liste_genre = np.array([])\n",
    "    for genre in liste_genres:\n",
    "        count_liste_genre = np.append(count_liste_genre, genres.count(genre))\n",
    "    m = np.amax(count_liste_genre)\n",
    "    maximum = [i for i, j in enumerate(count_liste_genre) if j == m]\n",
    "    \n",
    "    df['genre'][ind] = liste_genres[maximum[0]]\n",
    "    ind = ind+1\n",
    "    \n",
    "df.to_csv('bottom200.csv', index=False, encoding='utf-8')"
   ]
  }
 ],
 "metadata": {
  "kernelspec": {
   "display_name": "Python 3.9.0 64-bit",
   "language": "python",
   "name": "python3"
  },
  "language_info": {
   "codemirror_mode": {
    "name": "ipython",
    "version": 3
   },
   "file_extension": ".py",
   "mimetype": "text/x-python",
   "name": "python",
   "nbconvert_exporter": "python",
   "pygments_lexer": "ipython3",
   "version": "3.9.0"
  },
  "orig_nbformat": 4,
  "vscode": {
   "interpreter": {
    "hash": "11938c6bc6919ae2720b4d5011047913343b08a43b18698fd82dedb0d4417594"
   }
  }
 },
 "nbformat": 4,
 "nbformat_minor": 2
}
